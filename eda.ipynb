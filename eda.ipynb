{
 "cells": [
  {
   "cell_type": "code",
   "execution_count": 2,
   "id": "ea4d26dc",
   "metadata": {},
   "outputs": [
    {
     "name": "stdout",
     "output_type": "stream",
     "text": [
      "<class 'pandas.core.frame.DataFrame'>\n",
      "RangeIndex: 134 entries, 0 to 133\n",
      "Data columns (total 11 columns):\n",
      " #   Column        Non-Null Count  Dtype \n",
      "---  ------        --------------  ----- \n",
      " 0   id            134 non-null    int64 \n",
      " 1   name          134 non-null    object\n",
      " 2   category      134 non-null    object\n",
      " 3   glass         134 non-null    object\n",
      " 4   tags          35 non-null     object\n",
      " 5   instructions  134 non-null    object\n",
      " 6   imageUrl      134 non-null    object\n",
      " 7   alcoholic     134 non-null    int64 \n",
      " 8   createdAt     134 non-null    object\n",
      " 9   updatedAt     134 non-null    object\n",
      " 10  ingredients   134 non-null    object\n",
      "dtypes: int64(2), object(9)\n",
      "memory usage: 11.6+ KB\n",
      "None\n",
      "      id             name        category                glass  \\\n",
      "0  11000           Mojito        Cocktail       Highball glass   \n",
      "1  11001    Old Fashioned        Cocktail  Old-fashioned glass   \n",
      "2  11002  Long Island Tea  Ordinary Drink       Highball glass   \n",
      "3  11003          Negroni  Ordinary Drink  Old-fashioned glass   \n",
      "4  11004     Whiskey Sour  Ordinary Drink  Old-fashioned glass   \n",
      "\n",
      "                                                tags  \\\n",
      "0  [IBA, ContemporaryClassic, Alcoholic, USA, Asi...   \n",
      "1       [IBA, Classic, Alcoholic, Expensive, Savory]   \n",
      "2  [Strong, Asia, StrongFlavor, Brunch, Vegetaria...   \n",
      "3                                     [IBA, Classic]   \n",
      "4     [IBA, Classic, Alcoholic, ContemporaryClassic]   \n",
      "\n",
      "                                        instructions  \\\n",
      "0  Muddle mint leaves with sugar and lime juice. ...   \n",
      "1  Place sugar cube in old fashioned glass and sa...   \n",
      "2  Combine all ingredients (except cola) and pour...   \n",
      "3       Stir into glass over ice, garnish and serve.   \n",
      "4  Shake with ice. Strain into chilled glass, gar...   \n",
      "\n",
      "                                            imageUrl  alcoholic  \\\n",
      "0  https://cocktails.solvro.pl/images/ingredients...          1   \n",
      "1  https://cocktails.solvro.pl/images/ingredients...          1   \n",
      "2  https://cocktails.solvro.pl/images/ingredients...          1   \n",
      "3  https://cocktails.solvro.pl/images/ingredients...          1   \n",
      "4  https://cocktails.solvro.pl/images/ingredients...          1   \n",
      "\n",
      "                       createdAt                      updatedAt  \\\n",
      "0  2024-08-18T19:01:17.000+00:00  2024-08-18T19:06:16.000+00:00   \n",
      "1  2024-08-18T19:01:58.000+00:00  2024-08-18T19:06:17.000+00:00   \n",
      "2  2024-08-18T19:01:58.000+00:00  2024-08-18T19:06:17.000+00:00   \n",
      "3  2024-08-18T19:01:58.000+00:00  2024-08-18T19:06:17.000+00:00   \n",
      "4  2024-08-18T19:01:59.000+00:00  2024-08-18T19:06:18.000+00:00   \n",
      "\n",
      "                                         ingredients  \n",
      "0  [{'id': 170, 'name': 'Soda water', 'descriptio...  \n",
      "1  [{'id': 513, 'name': 'Water', 'description': '...  \n",
      "2  [{'id': 305, 'name': 'Light Rum', 'description...  \n",
      "3  [{'id': 482, 'name': 'Sweet Vermouth', 'descri...  \n",
      "4  [{'id': 409, 'name': 'Powdered Sugar', 'descri...  \n"
     ]
    }
   ],
   "source": [
    "from data_read import data_read_and_info\n",
    "\n",
    "data_read_and_info(\"raw_data_cocktail.json\")"
   ]
  }
 ],
 "metadata": {
  "kernelspec": {
   "display_name": "Python 3",
   "language": "python",
   "name": "python3"
  },
  "language_info": {
   "codemirror_mode": {
    "name": "ipython",
    "version": 3
   },
   "file_extension": ".py",
   "mimetype": "text/x-python",
   "name": "python",
   "nbconvert_exporter": "python",
   "pygments_lexer": "ipython3",
   "version": "3.13.2"
  }
 },
 "nbformat": 4,
 "nbformat_minor": 5
}
